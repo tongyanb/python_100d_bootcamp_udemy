{
 "cells": [
  {
   "cell_type": "markdown",
   "metadata": {},
   "source": [
    "### Pycharm features\n",
    "\n",
    "- Typo-proof:\n",
    "    - spellchecks noncode\n",
    "- Spacious:\n",
    "    - `right-click` + `split_right`\n",
    "- Built-in Linter:\n",
    "    - differentiates `IDEs` from `text-editors`\n",
    "    - [PEP8 style-guide](https://peps.python.org/pep-0008/)\n",
    "    - `Lints` code using `PEP8`\n",
    "- Access to `Local History`\n",
    "    - differentiates `IDEs` from `text-editors`\n",
    "    - `nav_bar(VSC) -> SHOW HISTORY`\n",
    "- Visibility of `Code Structure`\n",
    "    - `Structure pane` (bar to the very left)\n",
    "        - `variables`\n",
    "        - `functions`\n",
    "- Ease of function-renaming\n",
    "    - `Refactoring`\n",
    "        - `Right-click` -> `Refactor` -> `Rename` -> `Do Refactor`"
   ]
  }
 ],
 "metadata": {
  "language_info": {
   "name": "python"
  }
 },
 "nbformat": 4,
 "nbformat_minor": 2
}
