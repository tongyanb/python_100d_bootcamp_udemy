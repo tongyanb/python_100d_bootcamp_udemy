{
 "cells": [
  {
   "cell_type": "code",
   "execution_count": 1,
   "metadata": {},
   "outputs": [],
   "source": [
    "import pandas as pd\n",
    "#resource & recipe & coins\n",
    "MENU = {\n",
    "    \"espresso\": {\n",
    "        \"ingredients\": {\n",
    "            \"water\": 50,\n",
    "            \"coffee\": 18,\n",
    "        },\n",
    "        \"cost\": 1.5,\n",
    "    },\n",
    "    \"latte\": {\n",
    "        \"ingredients\": {\n",
    "            \"water\": 200,\n",
    "            \"milk\": 150,\n",
    "            \"coffee\": 24,\n",
    "        },\n",
    "        \"cost\": 2.5,\n",
    "    },\n",
    "    \"cappuccino\": {\n",
    "        \"ingredients\": {\n",
    "            \"water\": 250,\n",
    "            \"milk\": 100,\n",
    "            \"coffee\": 24,\n",
    "        },\n",
    "        \"cost\": 3.0,\n",
    "    }\n",
    "}\n",
    "\n",
    "resources = {\n",
    "    \"water\": 300,\n",
    "    \"milk\": 200,\n",
    "    \"coffee\": 100,\n",
    "}\n",
    "\n",
    "coins = {\n",
    "    \"quarters\":0.25,\n",
    "    \"dimes\": 0.10,\n",
    "    \"nickles\": 0.05,\n",
    "    \"pennies\": 0.01\n",
    "}\n",
    "\n"
   ]
  },
  {
   "cell_type": "markdown",
   "metadata": {},
   "source": [
    "### Main"
   ]
  },
  {
   "cell_type": "code",
   "execution_count": 2,
   "metadata": {},
   "outputs": [
    {
     "name": "stdout",
     "output_type": "stream",
     "text": [
      "Here's your $2.6 in change.\n",
      "Here's your espresso, enjoy!\n",
      "Here's your $1.1 in change.\n",
      "Here's your cappuccino, enjoy!\n",
      "Sorry, there's not enough water.\n",
      "invalid input, please try again :)\n",
      "Water: 0.0ml\n",
      "Milk: 100.0ml\n",
      "Coffee: 58.0g\n",
      "Money: $4.5\n",
      "invalid input, please try again :)\n",
      "invalid input, please try again :)\n",
      "invalid input, please try again :)\n",
      "Thanks for using the Coffee Machine, please tell us how we did today!\n"
     ]
    }
   ],
   "source": [
    "import pandas as pd\n",
    "#asking for user input\n",
    "power_on = True\n",
    "while power_on:\n",
    "    #asking for user input\n",
    "    user_input = input(\"What would you like? (espresso/latte/cappuccino):\").lower()\n",
    "\n",
    "    #toggle \"power_on\" to off if input is `off`\n",
    "    if user_input == \"off\":\n",
    "        power_on = False\n",
    "    elif user_input == \"report\":\n",
    "        print(f'Water: {resources[\"water\"]}ml')\n",
    "        print(f'Milk: {resources[\"milk\"]}ml')\n",
    "        print(f'Coffee: {resources[\"coffee\"]}g')\n",
    "        print(f'Money: ${resources.get(\"money\",0)}')\n",
    "    elif user_input in MENU.keys():\n",
    "        enough_resource = True\n",
    "        #check whether there's enough resource to make the drink user selected\n",
    "        for ingredient, amount in MENU[user_input][\"ingredients\"].items():\n",
    "            if resources[ingredient] < amount:\n",
    "                print(f\"Sorry, there's not enough {ingredient}.\")\n",
    "                enough_resource = False\n",
    "                break #break for loop the instant it spot insufficient resource\n",
    "\n",
    "        #process coins\n",
    "        if enough_resource:\n",
    "            money_input = 0\n",
    "            for unit in coins.keys():\n",
    "                money_input += coins[unit] * int(input(f\"How many {unit}?:\"))\n",
    "            #check if money is enough\n",
    "            if money_input >= MENU[user_input][\"cost\"]:\n",
    "                #return change if needed\n",
    "                if money_input > MENU[user_input][\"cost\"]:\n",
    "                    change = round(money_input - MENU[user_input][\"cost\"],2)\n",
    "                    print(f'Here\\'s your ${change} in change.')\n",
    "                #add money to profit in the machine\n",
    "                resources[\"money\"] = resources.get(\"money\",0) + MENU[user_input][\"cost\"]\n",
    "                #make the drink, costing corresponding resources\n",
    "                resources = pd.Series(resources).add(-pd.Series(MENU[user_input][\"ingredients\"]),fill_value=0).to_dict()\n",
    "                print(f\"Here's your {user_input}, enjoy!\")\n",
    "            else:\n",
    "                print(\"Not enough money, money refunded!\")\n",
    "\n",
    "    else:\n",
    "        print(\"invalid input, please try again :)\")\n",
    "\n",
    "print(\"Thanks for using the Coffee Machine, please tell us how we did today!\")\n"
   ]
  }
 ],
 "metadata": {
  "kernelspec": {
   "display_name": "Python 3",
   "language": "python",
   "name": "python3"
  },
  "language_info": {
   "codemirror_mode": {
    "name": "ipython",
    "version": 3
   },
   "file_extension": ".py",
   "mimetype": "text/x-python",
   "name": "python",
   "nbconvert_exporter": "python",
   "pygments_lexer": "ipython3",
   "version": "3.11.6"
  }
 },
 "nbformat": 4,
 "nbformat_minor": 2
}
