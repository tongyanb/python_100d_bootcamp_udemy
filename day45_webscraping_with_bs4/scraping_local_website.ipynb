{
 "cells": [
  {
   "cell_type": "markdown",
   "metadata": {},
   "source": [
    "### Scraping using Beautiful Soup\n",
    "\n",
    "- [Beautifulsoup Documentation](https://www.crummy.com/software/BeautifulSoup/bs4/doc/)"
   ]
  },
  {
   "cell_type": "code",
   "execution_count": 14,
   "metadata": {},
   "outputs": [],
   "source": [
    "from bs4 import BeautifulSoup\n",
    "import lxml"
   ]
  },
  {
   "cell_type": "code",
   "execution_count": 15,
   "metadata": {},
   "outputs": [
    {
     "data": {
      "text/plain": [
       "'<!DOCTYPE html>\\n<html>\\n\\n<head>\\n\\t<meta charset=\"utf-8\">\\n\\t<title>Angela\\'s Personal Site</title>\\n</head>\\t\\n\\n<body>\\n\\t<h1 id=\"random\">Newly-added h1 just for testing</h1>\\n\\t<h1 id=\"name\">Angela Yu</h1>\\n\\t<p><em>Founder of <strong><a href=\"https://www.appbrewery.co/\">The App Brewery</a></strong>.</em></p>\\n\\t<p>I am an iOS and Web Developer. I ❤️ coffee and motorcycles.</p>\\n\\t<hr>\\n\\t<h3 class=\"heading\">Books and Teaching</h3>\\n\\t<ul>\\n\\t\\t<li>The Complete iOS App Development Bootcamp</li>\\n\\t\\t<li>The Complete Web Development Bootcamp</li>\\n\\t\\t<li>100 Days of Code - The Complete Python Bootcamp</li>\\n\\t</ul>\\n\\t<hr>\\n\\t<h3 class=\"heading\">Other Pages</h3>\\n\\t<a href=\"https://angelabauer.github.io/cv/hobbies.html\">My Hobbies</a>\\n\\t<a href=\"https://angelabauer.github.io/cv/contact-me.html\">Contact Me</a>\\n</body>\\n\\n</html>'"
      ]
     },
     "execution_count": 15,
     "metadata": {},
     "output_type": "execute_result"
    }
   ],
   "source": [
    "### Get a hold of local html file\n",
    "html_file_path = \"bs4-start/website.html\"\n",
    "\n",
    "with open(html_file_path,\"r\",encoding=\"utf-8\") as file:\n",
    "    #read the content of the html file\n",
    "    html_content = file.read()\n",
    "\n",
    "#display the content\n",
    "html_content"
   ]
  },
  {
   "cell_type": "code",
   "execution_count": 16,
   "metadata": {},
   "outputs": [
    {
     "name": "stdout",
     "output_type": "stream",
     "text": [
      "<title>Angela's Personal Site</title>\n",
      "title\n",
      "Angela's Personal Site\n",
      "<!DOCTYPE html>\n",
      "<html>\n",
      " <head>\n",
      "  <meta charset=\"utf-8\"/>\n",
      "  <title>\n",
      "   Angela's Personal Site\n",
      "  </title>\n",
      " </head>\n",
      " <body>\n",
      "  <h1 id=\"random\">\n",
      "   Newly-added h1 just for testing\n",
      "  </h1>\n",
      "  <h1 id=\"name\">\n",
      "   Angela Yu\n",
      "  </h1>\n",
      "  <p>\n",
      "   <em>\n",
      "    Founder of\n",
      "    <strong>\n",
      "     <a href=\"https://www.appbrewery.co/\">\n",
      "      The App Brewery\n",
      "     </a>\n",
      "    </strong>\n",
      "    .\n",
      "   </em>\n",
      "  </p>\n",
      "  <p>\n",
      "   I am an iOS and Web Developer. I ❤️ coffee and motorcycles.\n",
      "  </p>\n",
      "  <hr/>\n",
      "  <h3 class=\"heading\">\n",
      "   Books and Teaching\n",
      "  </h3>\n",
      "  <ul>\n",
      "   <li>\n",
      "    The Complete iOS App Development Bootcamp\n",
      "   </li>\n",
      "   <li>\n",
      "    The Complete Web Development Bootcamp\n",
      "   </li>\n",
      "   <li>\n",
      "    100 Days of Code - The Complete Python Bootcamp\n",
      "   </li>\n",
      "  </ul>\n",
      "  <hr/>\n",
      "  <h3 class=\"heading\">\n",
      "   Other Pages\n",
      "  </h3>\n",
      "  <a href=\"https://angelabauer.github.io/cv/hobbies.html\">\n",
      "   My Hobbies\n",
      "  </a>\n",
      "  <a href=\"https://angelabauer.github.io/cv/contact-me.html\">\n",
      "   Contact Me\n",
      "  </a>\n",
      " </body>\n",
      "</html>\n",
      "\n"
     ]
    }
   ],
   "source": [
    "#parse the markup using beautifulsoup\n",
    "soup = BeautifulSoup(html_content,\"html.parser\") #able to parse both HTML and XML, telling parser to parse HTML\n",
    "\n",
    "#alternatively use `lxml` as parser\n",
    "\n",
    "\n",
    "#get title of the webpage\n",
    "print(soup.title)\n",
    "\n",
    "#get name of the title tag\n",
    "print(soup.title.name)\n",
    "\n",
    "\n",
    "#get actual string in the title tag\n",
    "print(soup.title.string)\n",
    "\n",
    "#soup object with indentation\n",
    "print(soup.prettify())\n"
   ]
  },
  {
   "cell_type": "code",
   "execution_count": 17,
   "metadata": {},
   "outputs": [
    {
     "name": "stdout",
     "output_type": "stream",
     "text": [
      "['The Complete iOS App Development Bootcamp', 'The Complete Web Development Bootcamp', '100 Days of Code - The Complete Python Bootcamp']\n",
      "['The Complete iOS App Development Bootcamp', 'The Complete Web Development Bootcamp', '100 Days of Code - The Complete Python Bootcamp']\n"
     ]
    }
   ],
   "source": [
    "#`find_all` to find all of `x` tag\n",
    "print([tag.string for tag in soup.find_all(name=\"li\")])\n",
    "print([tag.getText() for tag in soup.find_all(name=\"li\")])"
   ]
  },
  {
   "cell_type": "code",
   "execution_count": 18,
   "metadata": {},
   "outputs": [
    {
     "name": "stdout",
     "output_type": "stream",
     "text": [
      "<h1 id=\"random\">Newly-added h1 just for testing</h1>\n",
      "<h1 id=\"name\">Angela Yu</h1>\n",
      "<h3 class=\"heading\">Books and Teaching</h3>\n"
     ]
    }
   ],
   "source": [
    "print(soup.find(name=\"h1\",id=\"random\"))\n",
    "\n",
    "print(soup.find(name=\"h1\",id=\"name\"))\n",
    "\n",
    "\n",
    "print(soup.find(name=\"h3\",class_=\"heading\"))"
   ]
  },
  {
   "cell_type": "code",
   "execution_count": 19,
   "metadata": {},
   "outputs": [
    {
     "name": "stdout",
     "output_type": "stream",
     "text": [
      "<a href=\"https://www.appbrewery.co/\">The App Brewery</a>\n"
     ]
    },
    {
     "data": {
      "text/plain": [
       "[<h3 class=\"heading\">Books and Teaching</h3>,\n",
       " <h3 class=\"heading\">Other Pages</h3>]"
      ]
     },
     "execution_count": 19,
     "metadata": {},
     "output_type": "execute_result"
    }
   ],
   "source": [
    "#narrow down to a particular element based on html structure\n",
    "\n",
    "#`select_one`gives the 1st matching item\n",
    "#`select` gives all matches\n",
    "print(soup.select_one(selector=\"p a\")) #similar to css selectors, `a` sitting inside a `p` tag\n",
    "\n",
    "soup.select_one(selector=\"#name\") # `#` for selecting by `id`\n",
    "\n",
    "soup.select(selector=\".heading\") #`.` for selecting element by specific `class`"
   ]
  },
  {
   "cell_type": "markdown",
   "metadata": {},
   "source": [
    "- Laws favors towards scraping data, as long as data is\n",
    "    - publically available\n",
    "    - not copyrighted\n",
    "- Unscrappable for data behind authentication\n",
    "    - captcha\n",
    "    - recatcha\n",
    "- Ethics\n",
    "- Go for APIs\n",
    "- Respect the Web Owner\n",
    "- Check: `url + robots.txt`"
   ]
  }
 ],
 "metadata": {
  "kernelspec": {
   "display_name": "base",
   "language": "python",
   "name": "python3"
  },
  "language_info": {
   "codemirror_mode": {
    "name": "ipython",
    "version": 3
   },
   "file_extension": ".py",
   "mimetype": "text/x-python",
   "name": "python",
   "nbconvert_exporter": "python",
   "pygments_lexer": "ipython3",
   "version": "3.11.5"
  }
 },
 "nbformat": 4,
 "nbformat_minor": 2
}
