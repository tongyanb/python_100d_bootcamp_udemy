{
 "cells": [
  {
   "cell_type": "code",
   "execution_count": 3,
   "metadata": {},
   "outputs": [],
   "source": [
    "import requests\n",
    "from bs4 import BeautifulSoup"
   ]
  },
  {
   "cell_type": "markdown",
   "metadata": {},
   "source": [
    "### response.text VS response.content\n",
    "- response.text:\n",
    "\n",
    "This gives you the content of the response in Unicode format (a str in Python 3), which means it's already been decoded from the original bytes to a string using a character encoding.\n",
    "The encoding used for decoding is guessed from the response's headers or content. You can also specify the encoding manually if necessary.\n",
    "response.text is suitable when you are dealing with text content and you want to work with it as a string within your Python code, like parsing HTML/XML.  \n",
    "  \n",
    "- response.content:\n",
    "\n",
    "This gives you the raw response content in bytes (bytes in Python 3). It's useful when you need to deal with binary content, like images or files, but also when you want to handle the text encoding yourself.\n",
    "You'd typically use response.content if you need to consume or save the data in its original binary form, or if you encounter encoding issues with response.text and prefer to decode the bytes manually using a specific encoding.\n"
   ]
  },
  {
   "cell_type": "code",
   "execution_count": 11,
   "metadata": {},
   "outputs": [],
   "source": [
    "#scraping top 100 movie from empireonline\n",
    "url = \"https://web.archive.org/web/20200518073855/https://www.empireonline.com/movies/features/best-movies-2/\"\n",
    "\n",
    "response = requests.get(url)\n",
    "\n",
    "soup = BeautifulSoup(response.content)\n",
    "\n",
    "movies = [movie_element.getText() for movie_element in soup.find_all(name=\"h3\",class_=\"title\")][::-1]\n",
    "\n",
    "\n",
    "# with open(\"movies.txt\",\"w\") as file:\n",
    "#     file.write('\\n'.join(movies))\n",
    "with open(\"movies.txt\",\"w\") as file:\n",
    "    for movie in movies:\n",
    "        file.write(f\"{movie}\\n\")\n"
   ]
  }
 ],
 "metadata": {
  "kernelspec": {
   "display_name": "Python 3",
   "language": "python",
   "name": "python3"
  },
  "language_info": {
   "codemirror_mode": {
    "name": "ipython",
    "version": 3
   },
   "file_extension": ".py",
   "mimetype": "text/x-python",
   "name": "python",
   "nbconvert_exporter": "python",
   "pygments_lexer": "ipython3",
   "version": "3.11.6"
  }
 },
 "nbformat": 4,
 "nbformat_minor": 2
}
