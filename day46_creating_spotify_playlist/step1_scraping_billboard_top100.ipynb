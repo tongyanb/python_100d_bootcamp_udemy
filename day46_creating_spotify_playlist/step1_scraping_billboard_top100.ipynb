{
 "cells": [
  {
   "cell_type": "markdown",
   "metadata": {},
   "source": [
    "\n",
    "### Music Time Machine"
   ]
  },
  {
   "cell_type": "code",
   "execution_count": 18,
   "metadata": {},
   "outputs": [],
   "source": [
    "import requests\n",
    "from bs4 import BeautifulSoup"
   ]
  },
  {
   "cell_type": "code",
   "execution_count": 19,
   "metadata": {},
   "outputs": [],
   "source": [
    "date = input(\"Which date do you want to travel to? Type it in the format of YYYY-MM-DD:\")"
   ]
  },
  {
   "cell_type": "code",
   "execution_count": 20,
   "metadata": {},
   "outputs": [
    {
     "data": {
      "text/plain": [
       "['All I Want For Christmas Is You',\n",
       " \"Rockin' Around The Christmas Tree\",\n",
       " 'Jingle Bell Rock',\n",
       " 'Last Christmas',\n",
       " 'A Holly Jolly Christmas',\n",
       " \"It's The Most Wonderful Time Of The Year\",\n",
       " 'Feliz Navidad',\n",
       " 'Anti-Hero',\n",
       " 'The Christmas Song (Merry Christmas To You)',\n",
       " 'Unholy',\n",
       " 'Kill Bill',\n",
       " 'Santa Tell Me',\n",
       " 'Sleigh Ride',\n",
       " 'Underneath The Tree',\n",
       " 'Christmas (Baby Please Come Home)',\n",
       " 'White Christmas',\n",
       " 'Deck The Halls',\n",
       " 'Let It Snow, Let It Snow, Let It Snow!',\n",
       " \"I'm Good (Blue)\",\n",
       " 'Jingle Bells',\n",
       " 'Rich Flex',\n",
       " \"Creepin'\",\n",
       " \"It's Beginning To Look A Lot Like Christmas\",\n",
       " 'Blue Christmas',\n",
       " \"It's Beginning To Look A Lot Like Christmas\",\n",
       " 'Die For You',\n",
       " 'Here Comes Santa Claus (Right Down Santa Claus Lane)',\n",
       " 'Rudolph The Red-Nosed Reindeer',\n",
       " 'Little Saint Nick',\n",
       " 'Bad Habit',\n",
       " 'As It Was',\n",
       " 'Run Rudolph Run',\n",
       " 'Wonderful Christmastime',\n",
       " \"Santa Claus Is Comin' To Town\",\n",
       " \"You're A Mean One, Mr. Grinch\",\n",
       " 'Santa Baby',\n",
       " 'This Christmas',\n",
       " 'Cuff It',\n",
       " 'Under The Influence',\n",
       " 'Happy Holiday / The Holiday Season',\n",
       " \"(There's No Place Like) Home For The Holidays (1959)\",\n",
       " 'Something In The Orange',\n",
       " 'Please Come Home For Christmas',\n",
       " 'Merry Christmas',\n",
       " 'Made You Look',\n",
       " 'You Proof',\n",
       " 'Happy Xmas (War Is Over)',\n",
       " 'Have Yourself A Merry Little Christmas',\n",
       " 'Golden Hour',\n",
       " 'Christmastime Is Here',\n",
       " 'Super Freaky Girl',\n",
       " 'Shirt',\n",
       " 'Just Wanna Rock',\n",
       " 'Tomorrow 2',\n",
       " 'Superhero (Heroes & Villains)',\n",
       " 'Thank God',\n",
       " 'Lift Me Up',\n",
       " 'Until I Found You',\n",
       " 'Nobody Gets Me',\n",
       " 'Someday At Christmas',\n",
       " 'Rock And A Hard Place',\n",
       " 'Gato de Noche',\n",
       " \"Victoria's Secret\",\n",
       " 'Lavender Haze',\n",
       " 'Low',\n",
       " 'Son Of A Sinner',\n",
       " 'Blind',\n",
       " 'What My World Spins Around',\n",
       " 'Wait In The Truck',\n",
       " 'Going, Going, Gone',\n",
       " 'Heart Like A Truck',\n",
       " 'Last Christmas',\n",
       " 'Blue Christmas',\n",
       " 'Snooze',\n",
       " 'Escapism',\n",
       " \"Santa, Can't You Hear Me\",\n",
       " 'Love Language',\n",
       " \"Star Walkin' (League Of Legends Worlds Anthem)\",\n",
       " 'Calm Down',\n",
       " 'Whiskey On You',\n",
       " 'Seek & Destroy',\n",
       " 'Hold Me Closer',\n",
       " 'Que Vuelvas',\n",
       " 'Too Many Nights',\n",
       " 'Spin Bout U',\n",
       " 'Used',\n",
       " 'Romantic Homicide',\n",
       " 'Circo Loco',\n",
       " 'Ghost In The Machine',\n",
       " 'Down Home',\n",
       " 'Bebe Dame',\n",
       " 'Special',\n",
       " 'No Se Va',\n",
       " 'Kid On Christmas',\n",
       " 'One Thing At A Time',\n",
       " 'Pick Me Up',\n",
       " 'SOS',\n",
       " 'Forget Me',\n",
       " 'La Jumpa',\n",
       " 'Gone Girl']"
      ]
     },
     "execution_count": 20,
     "metadata": {},
     "output_type": "execute_result"
    }
   ],
   "source": [
    "#construct web url to scrap songs from\n",
    "url = \"https://www.billboard.com/charts/hot-100/\" + date\n",
    "\n",
    "response = requests.get(url)\n",
    "\n",
    "soup = BeautifulSoup(response.text)\n",
    "\n",
    "songs = [song.getText().strip() for song in soup.select(\"li ul li h3\")]\n",
    "\n",
    "songs"
   ]
  }
 ],
 "metadata": {
  "kernelspec": {
   "display_name": "Python 3",
   "language": "python",
   "name": "python3"
  },
  "language_info": {
   "codemirror_mode": {
    "name": "ipython",
    "version": 3
   },
   "file_extension": ".py",
   "mimetype": "text/x-python",
   "name": "python",
   "nbconvert_exporter": "python",
   "pygments_lexer": "ipython3",
   "version": "3.11.6"
  }
 },
 "nbformat": 4,
 "nbformat_minor": 2
}
