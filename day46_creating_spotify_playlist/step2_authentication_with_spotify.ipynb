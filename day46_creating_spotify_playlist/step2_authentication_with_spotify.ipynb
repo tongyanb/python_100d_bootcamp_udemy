{
 "cells": [
  {
   "cell_type": "markdown",
   "metadata": {},
   "source": [
    "### Step2: Using `Spotipy` to authenticate with Spotify"
   ]
  },
  {
   "cell_type": "code",
   "execution_count": 10,
   "metadata": {},
   "outputs": [],
   "source": [
    "import spotipy\n",
    "import json\n",
    "\n",
    "with open(\"credentials.json\",\"r\") as file:\n",
    "    credentials = json.load(file)\n",
    "\n",
    "client_id = credentials[\"client_id\"]\n",
    "client_secret = credentials[\"client_secret\"]\n",
    "redirect_url = credentials[\"redirect\"]"
   ]
  },
  {
   "cell_type": "code",
   "execution_count": 22,
   "metadata": {},
   "outputs": [
    {
     "data": {
      "text/plain": [
       "'bf3499aa5f7a46f9a962e0faac2c5542'"
      ]
     },
     "execution_count": 22,
     "metadata": {},
     "output_type": "execute_result"
    }
   ],
   "source": [
    "client_id"
   ]
  },
  {
   "cell_type": "code",
   "execution_count": 21,
   "metadata": {},
   "outputs": [
    {
     "data": {
      "text/plain": [
       "'f1ea48547173408388c137813721f7f1'"
      ]
     },
     "execution_count": 21,
     "metadata": {},
     "output_type": "execute_result"
    }
   ],
   "source": [
    "client_secret"
   ]
  },
  {
   "cell_type": "code",
   "execution_count": 24,
   "metadata": {},
   "outputs": [],
   "source": [
    "from spotipy.oauth2 import SpotifyOAuth\n",
    "\n",
    "sp = spotipy.Spotify(\n",
    "    oauth_manager=SpotifyOAuth(\n",
    "    client_id=client_id,\n",
    "    client_secret=client_secret,\n",
    "    redirect_uri=\"http://example.com\",\n",
    "    scope=\"playlist-modify-private\",\n",
    "    show_dialog=True,\n",
    "    cache_path=\"token.txt\",\n",
    "    username=\"Desmond Bai\")\n",
    ")\n",
    "\n"
   ]
  }
 ],
 "metadata": {
  "kernelspec": {
   "display_name": "base",
   "language": "python",
   "name": "python3"
  },
  "language_info": {
   "codemirror_mode": {
    "name": "ipython",
    "version": 3
   },
   "file_extension": ".py",
   "mimetype": "text/x-python",
   "name": "python",
   "nbconvert_exporter": "python",
   "pygments_lexer": "ipython3",
   "version": "3.12.2"
  }
 },
 "nbformat": 4,
 "nbformat_minor": 2
}
